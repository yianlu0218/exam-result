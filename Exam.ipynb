{
 "cells": [
  {
   "cell_type": "markdown",
   "id": "bfeb8155",
   "metadata": {},
   "source": [
    "Import Libraries"
   ]
  },
  {
   "cell_type": "code",
   "execution_count": 81,
   "id": "234ac2ab",
   "metadata": {},
   "outputs": [],
   "source": [
    "import numpy as np\n",
    "import pandas as pd\n",
    "import yfinance as yf\n",
    "import matplotlib.pyplot as plt"
   ]
  },
  {
   "cell_type": "markdown",
   "id": "c484eda2",
   "metadata": {},
   "source": [
    "Download the monthly stock price data of Lockheed Martin Corp from January 1, 2015, to December 31, 2019."
   ]
  },
  {
   "cell_type": "code",
   "execution_count": 82,
   "id": "636a5574",
   "metadata": {},
   "outputs": [
    {
     "name": "stdout",
     "output_type": "stream",
     "text": [
      "[*********************100%%**********************]  1 of 1 completed\n"
     ]
    }
   ],
   "source": [
    "data = yf.download('LMT', start='2015-01-01', end='2019-12-31', interval='1mo')"
   ]
  },
  {
   "cell_type": "code",
   "execution_count": 83,
   "id": "86ca8fe5",
   "metadata": {},
   "outputs": [
    {
     "name": "stdout",
     "output_type": "stream",
     "text": [
      "                  Open        High         Low       Close   Adj Close  \\\n",
      "Date                                                                     \n",
      "2015-01-01  192.100006  198.880005  186.800003  188.369995  148.920532   \n",
      "2015-02-01  188.410004  207.059998  186.009995  200.050003  158.154449   \n",
      "2015-03-01  200.050003  206.190002  195.600006  202.960007  161.638489   \n",
      "2015-04-01  202.100006  202.550003  185.649994  186.600006  148.609344   \n",
      "2015-05-01  186.800003  194.309998  185.910004  188.199997  149.883560   \n",
      "\n",
      "              Volume  \n",
      "Date                  \n",
      "2015-01-01  26623300  \n",
      "2015-02-01  26025200  \n",
      "2015-03-01  27231100  \n",
      "2015-04-01  28423300  \n",
      "2015-05-01  21149900  \n"
     ]
    }
   ],
   "source": [
    "#Check the data information\n",
    "print(data.head())"
   ]
  },
  {
   "cell_type": "markdown",
   "id": "3e0664c0",
   "metadata": {},
   "source": [
    "Calculate Monthly Log Returns and Annualised Return"
   ]
  },
  {
   "cell_type": "code",
   "execution_count": 87,
   "id": "2f4860bf",
   "metadata": {},
   "outputs": [],
   "source": [
    "# Calculate annualized return\n",
    "monthly_returns = data['Log_Return'].dropna()\n",
    "annualized_return = np.mean(monthly_returns) * 12  "
   ]
  },
  {
   "cell_type": "code",
   "execution_count": 88,
   "id": "b87c48c3",
   "metadata": {},
   "outputs": [
    {
     "name": "stdout",
     "output_type": "stream",
     "text": [
      "Annualized Return for LMT: 17.50%\n"
     ]
    }
   ],
   "source": [
    "def calculate_returns(ticker, start_date, end_date):\n",
    "    # Calculate monthly log returns\n",
    "    data['Log_Return'] = np.log(data['Adj Close'] / data['Adj Close'].shift(1))\n",
    "\n",
    "    # Calculate annualized return\n",
    "    monthly_returns = data['Log_Return'].dropna()\n",
    "    annualized_return = np.mean(monthly_returns) * 12 \n",
    "\n",
    "    return data, monthly_returns, annualized_return\n",
    "\n",
    "ticker = 'LMT'\n",
    "start_date = '2015-01-01'\n",
    "end_date = '2019-12-31'\n",
    "\n",
    "# Calculate returns\n",
    "lmt_data, lmt_monthly_returns, lmt_annualized_return = calculate_returns(ticker, start_date, end_date)\n",
    "\n",
    "# Print the annualized return\n",
    "print(f\"Annualized Return for {ticker}: {lmt_annualized_return:.2%}\")"
   ]
  },
  {
   "cell_type": "markdown",
   "id": "b12fec65",
   "metadata": {},
   "source": [
    "Calculate Annualised Volatility"
   ]
  },
  {
   "cell_type": "code",
   "execution_count": 15,
   "id": "3a0078ba",
   "metadata": {},
   "outputs": [
    {
     "name": "stdout",
     "output_type": "stream",
     "text": [
      "Monthly Volatility for LMT: 5.3287%\n",
      "Annualized Volatility for LMT: 18.4590%\n"
     ]
    }
   ],
   "source": [
    "def calculate_volatility(ticker, start_date, end_date):\n",
    "\n",
    "    # Calculate monthly log returns\n",
    "    data['Log_Return'] = np.log(data['Adj Close'] / data['Adj Close'].shift(1))\n",
    "\n",
    "    # Calculate annualized volatility\n",
    "    monthly_volatility = data['Log_Return'].std()\n",
    "    annualized_volatility = monthly_volatility * np.sqrt(12) \n",
    "\n",
    "    return data, monthly_volatility, annualized_volatility\n",
    "\n",
    "ticker = 'LMT'\n",
    "start_date = '2015-01-01'\n",
    "end_date = '2019-12-31'\n",
    "\n",
    "# Calculate monthly log returns and annualized volatility\n",
    "lmt_data, lmt_monthly_volatility, lmt_annualized_volatility = calculate_volatility(ticker, start_date, end_date)\n",
    "\n",
    "# Print the monthly and annualized volatility\n",
    "print(f\"Monthly Volatility for {ticker}: {lmt_monthly_volatility * 100:.4f}%\")\n",
    "print(f\"Annualized Volatility for {ticker}: {lmt_annualized_volatility* 100:.4f}%\")"
   ]
  },
  {
   "cell_type": "markdown",
   "id": "141d61eb",
   "metadata": {},
   "source": [
    "Download the ESG (Total Score) data for the stock within the same timeframe. If there are any missing values for a particular month, fill them using the data from the previous month. Plot the figure and analyse what you get."
   ]
  },
  {
   "cell_type": "code",
   "execution_count": 69,
   "id": "09ecf4e5",
   "metadata": {},
   "outputs": [
    {
     "name": "stderr",
     "output_type": "stream",
     "text": [
      "UserWarning: Pandas doesn't allow columns to be created via a new attribute name - see https://pandas.pydata.org/pandas-docs/stable/indexing.html#attribute-access\n"
     ]
    },
    {
     "data": {
      "text/html": [
       "<div>\n",
       "<style scoped>\n",
       "    .dataframe tbody tr th:only-of-type {\n",
       "        vertical-align: middle;\n",
       "    }\n",
       "\n",
       "    .dataframe tbody tr th {\n",
       "        vertical-align: top;\n",
       "    }\n",
       "\n",
       "    .dataframe thead th {\n",
       "        text-align: right;\n",
       "    }\n",
       "</style>\n",
       "<table border=\"1\" class=\"dataframe\">\n",
       "  <thead>\n",
       "    <tr style=\"text-align: right;\">\n",
       "      <th></th>\n",
       "      <th>Total-Score</th>\n",
       "      <th>E-Score</th>\n",
       "      <th>S-Score</th>\n",
       "      <th>G-Score</th>\n",
       "    </tr>\n",
       "    <tr>\n",
       "      <th>Date</th>\n",
       "      <th></th>\n",
       "      <th></th>\n",
       "      <th></th>\n",
       "      <th></th>\n",
       "    </tr>\n",
       "  </thead>\n",
       "  <tbody>\n",
       "    <tr>\n",
       "      <th>2014-09-01</th>\n",
       "      <td>69.00</td>\n",
       "      <td>71.00</td>\n",
       "      <td>67.00</td>\n",
       "      <td>69.00</td>\n",
       "    </tr>\n",
       "    <tr>\n",
       "      <th>2014-10-01</th>\n",
       "      <td>69.00</td>\n",
       "      <td>71.00</td>\n",
       "      <td>67.00</td>\n",
       "      <td>69.00</td>\n",
       "    </tr>\n",
       "    <tr>\n",
       "      <th>2014-11-01</th>\n",
       "      <td>69.00</td>\n",
       "      <td>71.00</td>\n",
       "      <td>67.00</td>\n",
       "      <td>69.00</td>\n",
       "    </tr>\n",
       "    <tr>\n",
       "      <th>2014-12-01</th>\n",
       "      <td>71.00</td>\n",
       "      <td>71.00</td>\n",
       "      <td>71.00</td>\n",
       "      <td>72.00</td>\n",
       "    </tr>\n",
       "    <tr>\n",
       "      <th>2015-01-01</th>\n",
       "      <td>72.00</td>\n",
       "      <td>72.00</td>\n",
       "      <td>71.00</td>\n",
       "      <td>74.00</td>\n",
       "    </tr>\n",
       "    <tr>\n",
       "      <th>...</th>\n",
       "      <td>...</td>\n",
       "      <td>...</td>\n",
       "      <td>...</td>\n",
       "      <td>...</td>\n",
       "    </tr>\n",
       "    <tr>\n",
       "      <th>2021-05-01</th>\n",
       "      <td>28.85</td>\n",
       "      <td>5.27</td>\n",
       "      <td>15.74</td>\n",
       "      <td>7.84</td>\n",
       "    </tr>\n",
       "    <tr>\n",
       "      <th>2021-09-01</th>\n",
       "      <td>28.64</td>\n",
       "      <td>5.27</td>\n",
       "      <td>15.95</td>\n",
       "      <td>7.42</td>\n",
       "    </tr>\n",
       "    <tr>\n",
       "      <th>2022-02-01</th>\n",
       "      <td>28.81</td>\n",
       "      <td>5.27</td>\n",
       "      <td>15.93</td>\n",
       "      <td>7.61</td>\n",
       "    </tr>\n",
       "    <tr>\n",
       "      <th>2022-05-01</th>\n",
       "      <td>28.42</td>\n",
       "      <td>5.27</td>\n",
       "      <td>15.95</td>\n",
       "      <td>7.20</td>\n",
       "    </tr>\n",
       "    <tr>\n",
       "      <th>2022-08-01</th>\n",
       "      <td>28.36</td>\n",
       "      <td>5.27</td>\n",
       "      <td>15.90</td>\n",
       "      <td>7.20</td>\n",
       "    </tr>\n",
       "  </tbody>\n",
       "</table>\n",
       "<p>78 rows × 4 columns</p>\n",
       "</div>"
      ],
      "text/plain": [
       "            Total-Score  E-Score  S-Score  G-Score\n",
       "Date                                              \n",
       "2014-09-01        69.00    71.00    67.00    69.00\n",
       "2014-10-01        69.00    71.00    67.00    69.00\n",
       "2014-11-01        69.00    71.00    67.00    69.00\n",
       "2014-12-01        71.00    71.00    71.00    72.00\n",
       "2015-01-01        72.00    72.00    71.00    74.00\n",
       "...                 ...      ...      ...      ...\n",
       "2021-05-01        28.85     5.27    15.74     7.84\n",
       "2021-09-01        28.64     5.27    15.95     7.42\n",
       "2022-02-01        28.81     5.27    15.93     7.61\n",
       "2022-05-01        28.42     5.27    15.95     7.20\n",
       "2022-08-01        28.36     5.27    15.90     7.20\n",
       "\n",
       "[78 rows x 4 columns]"
      ]
     },
     "execution_count": 69,
     "metadata": {},
     "output_type": "execute_result"
    }
   ],
   "source": [
    "import yesg\n",
    "ESG = yesg.get_historic_esg('LMT') \n",
    "ESG.new = pd.DataFrame.dropna(ESG)\n",
    "ESG.new"
   ]
  },
  {
   "cell_type": "code",
   "execution_count": 116,
   "id": "dd12d892",
   "metadata": {},
   "outputs": [
    {
     "ename": "KeyError",
     "evalue": "'Date'",
     "output_type": "error",
     "traceback": [
      "\u001b[0;31m---------------------------------------------------------------------------\u001b[0m",
      "\u001b[0;31mKeyError\u001b[0m                                  Traceback (most recent call last)",
      "File \u001b[0;32m~/anaconda3/lib/python3.11/site-packages/pandas/core/indexes/base.py:3653\u001b[0m, in \u001b[0;36mIndex.get_loc\u001b[0;34m(self, key)\u001b[0m\n\u001b[1;32m   3652\u001b[0m \u001b[38;5;28;01mtry\u001b[39;00m:\n\u001b[0;32m-> 3653\u001b[0m     \u001b[38;5;28;01mreturn\u001b[39;00m \u001b[38;5;28mself\u001b[39m\u001b[38;5;241m.\u001b[39m_engine\u001b[38;5;241m.\u001b[39mget_loc(casted_key)\n\u001b[1;32m   3654\u001b[0m \u001b[38;5;28;01mexcept\u001b[39;00m \u001b[38;5;167;01mKeyError\u001b[39;00m \u001b[38;5;28;01mas\u001b[39;00m err:\n",
      "File \u001b[0;32m~/anaconda3/lib/python3.11/site-packages/pandas/_libs/index.pyx:147\u001b[0m, in \u001b[0;36mpandas._libs.index.IndexEngine.get_loc\u001b[0;34m()\u001b[0m\n",
      "File \u001b[0;32m~/anaconda3/lib/python3.11/site-packages/pandas/_libs/index.pyx:176\u001b[0m, in \u001b[0;36mpandas._libs.index.IndexEngine.get_loc\u001b[0;34m()\u001b[0m\n",
      "File \u001b[0;32mpandas/_libs/hashtable_class_helper.pxi:7080\u001b[0m, in \u001b[0;36mpandas._libs.hashtable.PyObjectHashTable.get_item\u001b[0;34m()\u001b[0m\n",
      "File \u001b[0;32mpandas/_libs/hashtable_class_helper.pxi:7088\u001b[0m, in \u001b[0;36mpandas._libs.hashtable.PyObjectHashTable.get_item\u001b[0;34m()\u001b[0m\n",
      "\u001b[0;31mKeyError\u001b[0m: 'Date'",
      "\nThe above exception was the direct cause of the following exception:\n",
      "\u001b[0;31mKeyError\u001b[0m                                  Traceback (most recent call last)",
      "Cell \u001b[0;32mIn[116], line 1\u001b[0m\n\u001b[0;32m----> 1\u001b[0m ESG[\u001b[38;5;124m\"\u001b[39m\u001b[38;5;124mDate\u001b[39m\u001b[38;5;124m\"\u001b[39m]\u001b[38;5;241m=\u001b[39mESG[\u001b[38;5;124m\"\u001b[39m\u001b[38;5;124mDate\u001b[39m\u001b[38;5;124m\"\u001b[39m]\u001b[38;5;241m.\u001b[39mvalues\u001b[38;5;241m.\u001b[39mastype(\u001b[38;5;124m'\u001b[39m\u001b[38;5;124mdatetime64\u001b[39m\u001b[38;5;124m'\u001b[39m) \n\u001b[1;32m      2\u001b[0m \u001b[38;5;28;01mimport\u001b[39;00m \u001b[38;5;21;01mdatetime\u001b[39;00m\n\u001b[1;32m      3\u001b[0m s_date \u001b[38;5;241m=\u001b[39m datetime\u001b[38;5;241m.\u001b[39mdatetime\u001b[38;5;241m.\u001b[39mstrptime(\u001b[38;5;124m'\u001b[39m\u001b[38;5;124m2015-01-01\u001b[39m\u001b[38;5;124m'\u001b[39m, \u001b[38;5;124m'\u001b[39m\u001b[38;5;124m%\u001b[39m\u001b[38;5;124mY-\u001b[39m\u001b[38;5;124m%\u001b[39m\u001b[38;5;124mm-\u001b[39m\u001b[38;5;132;01m%d\u001b[39;00m\u001b[38;5;124m'\u001b[39m)\u001b[38;5;241m.\u001b[39mdate()  \u001b[38;5;66;03m#strat date\u001b[39;00m\n",
      "File \u001b[0;32m~/anaconda3/lib/python3.11/site-packages/pandas/core/frame.py:3761\u001b[0m, in \u001b[0;36mDataFrame.__getitem__\u001b[0;34m(self, key)\u001b[0m\n\u001b[1;32m   3759\u001b[0m \u001b[38;5;28;01mif\u001b[39;00m \u001b[38;5;28mself\u001b[39m\u001b[38;5;241m.\u001b[39mcolumns\u001b[38;5;241m.\u001b[39mnlevels \u001b[38;5;241m>\u001b[39m \u001b[38;5;241m1\u001b[39m:\n\u001b[1;32m   3760\u001b[0m     \u001b[38;5;28;01mreturn\u001b[39;00m \u001b[38;5;28mself\u001b[39m\u001b[38;5;241m.\u001b[39m_getitem_multilevel(key)\n\u001b[0;32m-> 3761\u001b[0m indexer \u001b[38;5;241m=\u001b[39m \u001b[38;5;28mself\u001b[39m\u001b[38;5;241m.\u001b[39mcolumns\u001b[38;5;241m.\u001b[39mget_loc(key)\n\u001b[1;32m   3762\u001b[0m \u001b[38;5;28;01mif\u001b[39;00m is_integer(indexer):\n\u001b[1;32m   3763\u001b[0m     indexer \u001b[38;5;241m=\u001b[39m [indexer]\n",
      "File \u001b[0;32m~/anaconda3/lib/python3.11/site-packages/pandas/core/indexes/base.py:3655\u001b[0m, in \u001b[0;36mIndex.get_loc\u001b[0;34m(self, key)\u001b[0m\n\u001b[1;32m   3653\u001b[0m     \u001b[38;5;28;01mreturn\u001b[39;00m \u001b[38;5;28mself\u001b[39m\u001b[38;5;241m.\u001b[39m_engine\u001b[38;5;241m.\u001b[39mget_loc(casted_key)\n\u001b[1;32m   3654\u001b[0m \u001b[38;5;28;01mexcept\u001b[39;00m \u001b[38;5;167;01mKeyError\u001b[39;00m \u001b[38;5;28;01mas\u001b[39;00m err:\n\u001b[0;32m-> 3655\u001b[0m     \u001b[38;5;28;01mraise\u001b[39;00m \u001b[38;5;167;01mKeyError\u001b[39;00m(key) \u001b[38;5;28;01mfrom\u001b[39;00m \u001b[38;5;21;01merr\u001b[39;00m\n\u001b[1;32m   3656\u001b[0m \u001b[38;5;28;01mexcept\u001b[39;00m \u001b[38;5;167;01mTypeError\u001b[39;00m:\n\u001b[1;32m   3657\u001b[0m     \u001b[38;5;66;03m# If we have a listlike key, _check_indexing_error will raise\u001b[39;00m\n\u001b[1;32m   3658\u001b[0m     \u001b[38;5;66;03m#  InvalidIndexError. Otherwise we fall through and re-raise\u001b[39;00m\n\u001b[1;32m   3659\u001b[0m     \u001b[38;5;66;03m#  the TypeError.\u001b[39;00m\n\u001b[1;32m   3660\u001b[0m     \u001b[38;5;28mself\u001b[39m\u001b[38;5;241m.\u001b[39m_check_indexing_error(key)\n",
      "\u001b[0;31mKeyError\u001b[0m: 'Date'"
     ]
    }
   ],
   "source": [
    "#Select the certain date from 2015/01/01 to 2019/12/31, but it doesn't work...\n",
    "ESG[\"Date\"]=ESG[\"Date\"].values.astype('datetime64') \n",
    "import datetime\n",
    "s_date = datetime.datetime.strptime('2015-01-01', '%Y-%m-%d').date()  #strat date\n",
    "e_date = datetime.datetime.strptime('2019-12-31', '%Y-%m-%d').date()  #end date"
   ]
  },
  {
   "cell_type": "code",
   "execution_count": 103,
   "id": "76c99144",
   "metadata": {},
   "outputs": [
    {
     "data": {
      "text/plain": [
       "Text(0.5, 1.0, 'ESG Score for LMT')"
      ]
     },
     "execution_count": 103,
     "metadata": {},
     "output_type": "execute_result"
    },
    {
     "data": {
      "image/png": "[encoded data removed]",
      "text/plain": [
       "<Figure size 1000x600 with 1 Axes>"
      ]
     },
     "metadata": {},
     "output_type": "display_data"
    }
   ],
   "source": [
    "#Visualization\n",
    "ESG.new.plot(figsize=(10, 6))\n",
    "plt.xlabel('Time')\n",
    "plt.ylabel('score')\n",
    "plt.title('ESG Score for LMT')"
   ]
  },
  {
   "cell_type": "markdown",
   "id": "7a638f6a",
   "metadata": {},
   "source": [
    "Calculate and Analyse the Correlation between Stock Price and ESG"
   ]
  },
  {
   "cell_type": "code",
   "execution_count": 92,
   "id": "54f611b6",
   "metadata": {},
   "outputs": [
    {
     "name": "stdout",
     "output_type": "stream",
     "text": [
      "The correlation between the stock price and its ESG Total Score is -0.5689\n"
     ]
    }
   ],
   "source": [
    "# Compute the correlation\n",
    "correlation = data['Adj Close'].corr(ESG['Total-Score'])\n",
    "# Print the correlation\n",
    "print(f\"The correlation between the stock price and its ESG Total Score is {correlation:.4f}\")"
   ]
  },
  {
   "cell_type": "markdown",
   "id": "8544a053",
   "metadata": {},
   "source": [
    "Caculate HDD of Taipei in February of the year 2022."
   ]
  },
  {
   "cell_type": "code",
   "execution_count": 42,
   "id": "ca01df71",
   "metadata": {},
   "outputs": [],
   "source": [
    "import numpy as np\n",
    "from datetime import datetime\n",
    "import matplotlib.pyplot as plt\n",
    "from meteostat import Point, Daily"
   ]
  },
  {
   "cell_type": "code",
   "execution_count": 43,
   "id": "7bf82e18",
   "metadata": {},
   "outputs": [],
   "source": [
    "#Set needed data\n",
    "start = datetime(2022, 2, 1)\n",
    "end = datetime(2022, 2, 28)\n",
    "location = Point(25.0320, 121.5654, 9)"
   ]
  },
  {
   "cell_type": "code",
   "execution_count": 44,
   "id": "d77e15c5",
   "metadata": {},
   "outputs": [],
   "source": [
    "data = Daily(location, start, end)\n",
    "data = data.fetch()"
   ]
  },
  {
   "cell_type": "code",
   "execution_count": 45,
   "id": "58700c28",
   "metadata": {},
   "outputs": [
    {
     "data": {
      "image/png": "[encoded data removed]",
      "text/plain": [
       "<Figure size 640x480 with 1 Axes>"
      ]
     },
     "metadata": {},
     "output_type": "display_data"
    }
   ],
   "source": [
    "# Draw a plot to see the average temperature of Taipei in February 2022\n",
    "data.plot(y=['tavg'])\n",
    "plt.show()"
   ]
  },
  {
   "cell_type": "code",
   "execution_count": 56,
   "id": "6eabf764",
   "metadata": {},
   "outputs": [
    {
     "name": "stdout",
     "output_type": "stream",
     "text": [
      "Total HDD for February 2022 in Taipei: 55.80\n"
     ]
    }
   ],
   "source": [
    "#Calculate the HDD\n",
    "data['number'] = np.arange((len(data['tavg'])))\n",
    "data['tavg'].fillna(method='ffill', inplace=True) #Deal with N/A numbers\n",
    "x = np.array(data['number'])\n",
    "y = np.array(data['tavg'])\n",
    "T_base = 18\n",
    "\n",
    "#Compute the HDD\n",
    "hdds = [max(0, T_base-temp) for temp in data.tavg]\n",
    "total_hdd = sum(hdds)\n",
    "print(f'Total HDD for February 2022 in Taipei: {total_hdd:.2f}')"
   ]
  },
  {
   "cell_type": "code",
   "execution_count": null,
   "id": "65745d0d",
   "metadata": {},
   "outputs": [],
   "source": []
  },
  {
   "cell_type": "code",
   "execution_count": null,
   "id": "926e2034",
   "metadata": {},
   "outputs": [],
   "source": []
  }
 ],
 "metadata": {
  "kernelspec": {
   "display_name": "Python 3 (ipykernel)",
   "language": "python",
   "name": "python3"
  },
  "language_info": {
   "codemirror_mode": {
    "name": "ipython",
    "version": 3
   },
   "file_extension": ".py",
   "mimetype": "text/x-python",
   "name": "python",
   "nbconvert_exporter": "python",
   "pygments_lexer": "ipython3",
   "version": "3.11.5"
  }
 },
 "nbformat": 4,
 "nbformat_minor": 5
}
